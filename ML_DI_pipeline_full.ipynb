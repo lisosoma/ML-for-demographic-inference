{
  "cells": [
    {
      "cell_type": "markdown",
      "metadata": {
        "id": "view-in-github",
        "colab_type": "text"
      },
      "source": [
        "<a href=\"https://colab.research.google.com/github/lisosoma/ML-for-demographic-inference/blob/main/ML_DI_pipeline_full.ipynb\" target=\"_parent\"><img src=\"https://colab.research.google.com/assets/colab-badge.svg\" alt=\"Open In Colab\"/></a>"
      ]
    },
    {
      "cell_type": "markdown",
      "metadata": {
        "id": "IIDZADeVpIkL"
      },
      "source": [
        "### Install libraries"
      ]
    },
    {
      "cell_type": "code",
      "execution_count": null,
      "metadata": {
        "id": "i6_6VEQkGe7O"
      },
      "outputs": [],
      "source": [
        "!pip install dadi"
      ]
    },
    {
      "cell_type": "markdown",
      "metadata": {
        "id": "_zfuMi-b239A"
      },
      "source": [
        "### DE part\n",
        "\n",
        "Generate sample data using dadi "
      ]
    },
    {
      "cell_type": "markdown",
      "metadata": {
        "id": "UnRXv5XT3B-P"
      },
      "source": [
        "#### 2_DivMig_5_Sim model"
      ]
    },
    {
      "cell_type": "code",
      "execution_count": null,
      "metadata": {
        "id": "P2LyDfbberyy"
      },
      "outputs": [],
      "source": [
        "import scipy.stats as sts\n",
        "import pylab\n",
        "import dadi\n",
        "import numpy as np"
      ]
    },
    {
      "cell_type": "markdown",
      "source": [
        "We use the code from the repository of Ekaterina Noskova, the link to which is given in the repository"
      ],
      "metadata": {
        "id": "glZi4TZiDJUX"
      }
    },
    {
      "cell_type": "code",
      "execution_count": null,
      "metadata": {
        "id": "M58WdPE-Npxr"
      },
      "outputs": [],
      "source": [
        "# Code from the repository of Ekaterina Noskova\n",
        "\n",
        "def model_func(params, ns, pts):\n",
        "    \"\"\"\n",
        "    Simple two populations model. Ancestral population of constant size splits\n",
        "    into two subpopulations of constant size with asymetrical migrations.\n",
        "    :param nu1: Size of subpopulation 1 after split.\n",
        "    :param nu2: Size of subpopulation 2 after split.\n",
        "    :param m12: Migration rate from subpopulation 2 to subpopulation 1.\n",
        "    :param m21: Migration rate from subpopulation 1 to subpopulation 2.\n",
        "    :param T: Time of split.\n",
        "    \"\"\"\n",
        "\n",
        "    nu1, nu2, m12, m21, T = params\n",
        "\n",
        "    xx = dadi.Numerics.default_grid(pts)\n",
        "    phi = dadi.PhiManip.phi_1D(xx)\n",
        "\n",
        "    phi = dadi.PhiManip.phi_1D_to_2D(xx, phi)\n",
        "    phi = dadi.Integration.two_pops(phi, xx, T, nu1=nu1, nu2=nu2, m12=m12, m21=m21)\n",
        "\n",
        "    fs = dadi.Spectrum.from_phi(phi, ns, [xx, xx])\n",
        "    return fs"
      ]
    },
    {
      "cell_type": "code",
      "execution_count": null,
      "metadata": {
        "id": "QeGaSC4ZSBPd"
      },
      "outputs": [],
      "source": [
        "n_pop = 2\n",
        "pop_labels = [\"Pop 1\", \"Pop 2\"]\n",
        "\n",
        "par_labels = ['nu1', 'nu2', 'm12', 'm21', 'T']\n",
        "\n",
        "lower_bound = [1e-2, 1e-2, 0, 0, 1e-15]\n",
        "upper_bound = [100, 100, 10, 10, 5]\n",
        "\n",
        "mu = 2.5e-8  # mutation rate\n",
        "L = 20000000  # effective length of sequence\n",
        "Nanc = 10000\n",
        "theta = 4 * mu * L * Nanc  # mutation flux\n",
        "\n",
        "ns_per_pop = 20\n",
        "ns = [ns_per_pop for _ in range(n_pop)]\n",
        "pts_l = 20"
      ]
    },
    {
      "cell_type": "markdown",
      "metadata": {
        "id": "nL_3_TIv3Aye"
      },
      "source": [
        "#### Creating file with sample data"
      ]
    },
    {
      "cell_type": "markdown",
      "source": [
        "We will save the files in text format, since this option is the easiest and fastest for conducting an experiment. To make it easier to upload spectra to the pandas dataframe, we will store them as vectors. Since our population size is 20, we will generate a list of names to parse the 21x21 matrix into a row of 441 elements (the numbers may vary, so a variable `pts_l` is given instead)"
      ],
      "metadata": {
        "id": "Ryv6hop1DMel"
      }
    },
    {
      "cell_type": "code",
      "execution_count": null,
      "metadata": {
        "id": "YXdfqD1JJtCn"
      },
      "outputs": [],
      "source": [
        "names = np.linspace(1, (pts_l + 1) ** 2, (pts_l + 1) ** 2, endpoint = True, dtype = int)\n",
        "a = \" \".join(names.astype(str))\n",
        "a += '\\n'"
      ]
    },
    {
      "cell_type": "markdown",
      "source": [
        "Creating a file. We will have two datasets, so then this cell will need to be started again by changing `data1.txt` on `data2.txt`."
      ],
      "metadata": {
        "id": "v9o5YHOzDt4p"
      }
    },
    {
      "cell_type": "code",
      "execution_count": null,
      "metadata": {
        "id": "s4YhGqb2f0SY"
      },
      "outputs": [],
      "source": [
        "with open('/content/data1.txt', 'w') as f:\n",
        "    f.seek(0, 2) \n",
        "    f.write(a)"
      ]
    },
    {
      "cell_type": "markdown",
      "source": [
        "First sample"
      ],
      "metadata": {
        "id": "jTjpiVxWWrGh"
      }
    },
    {
      "cell_type": "code",
      "execution_count": null,
      "metadata": {
        "id": "ipq1QVcrD6x2"
      },
      "outputs": [],
      "source": [
        "y_cur1 = np.concatenate([[sts.uniform.rvs(loc = lower_bound[0], scale = upper_bound[0] + lower_bound[0], size = 5000).T],\n",
        "                   [sts.uniform.rvs(loc = lower_bound[1], scale = upper_bound[1] + lower_bound[1], size = 5000).T],\n",
        "                   [sts.uniform.rvs(loc = lower_bound[2], scale = upper_bound[2] + lower_bound[2], size = 5000).T],\n",
        "                   [sts.uniform.rvs(loc = lower_bound[3], scale = upper_bound[3] + lower_bound[3], size = 5000).T],\n",
        "                   [sts.uniform.rvs(loc = 0.001, scale = 0.101, size = 5000).T]]).T"
      ]
    },
    {
      "cell_type": "markdown",
      "source": [
        "Second sample"
      ],
      "metadata": {
        "id": "Lr_yJz-EWvQZ"
      }
    },
    {
      "cell_type": "code",
      "execution_count": null,
      "metadata": {
        "id": "aN8_9PmKmxU2"
      },
      "outputs": [],
      "source": [
        "k = 1000\n",
        "y1 = np.array([[0.1, 5, 2.5, 0.05]]* k)\n",
        "y1 = np.concatenate([[np.linspace(lower_bound[0], upper_bound[0], k, endpoint = True)], y1.T]).T\n",
        "y2 = np.array([[5, 2.5, 0.05]]*k)\n",
        "y2 = np.concatenate([[np.ones(k)], [np.linspace(lower_bound[1], upper_bound[1], k, endpoint = True)], y2.T]).T\n",
        "y3 = np.concatenate([np.array([[1, 0.1]]* k).T, [np.linspace(lower_bound[2], upper_bound[2], k, endpoint = True)], np.array([[2.5, 0.05]]* k).T]).T\n",
        "y4 = np.array([[1, 0.1, 5]]*k)\n",
        "y4 = np.concatenate([y4.T, [np.linspace(lower_bound[3], upper_bound[3], k, endpoint = True)], np.array([[0.05]] * k).T]).T\n",
        "y5 = np.array([[1, 0.1, 5, 2.5]]* k)\n",
        "y5 = np.concatenate([y5.T, [np.linspace(lower_bound[4], upper_bound[4], k, endpoint = True)]]).T\n",
        "y_cur2 = np.concatenate([y1, y2, y3, y4, y5])"
      ]
    },
    {
      "cell_type": "markdown",
      "source": [
        "Since the labels are generated randomly, we will save them, as we will continue to save our spectra for them."
      ],
      "metadata": {
        "id": "Htw5_i1BECnR"
      }
    },
    {
      "cell_type": "code",
      "execution_count": null,
      "metadata": {
        "id": "hwDZvh_T6zJF"
      },
      "outputs": [],
      "source": [
        "np.savetxt(r'labels1.txt', pd.DataFrame(y_cur1))"
      ]
    },
    {
      "cell_type": "code",
      "execution_count": null,
      "metadata": {
        "id": "I6HKKh316RVg"
      },
      "outputs": [],
      "source": [
        "np.savetxt(r'labels2.txt', pd.DataFrame(y_cur2))"
      ]
    },
    {
      "cell_type": "markdown",
      "source": [
        "Here, similarly, `y_cur1` will need to be replaced with `y_cur` after the second dataset needs to be created."
      ],
      "metadata": {
        "id": "m53SAGeUEJ6L"
      }
    },
    {
      "cell_type": "code",
      "execution_count": null,
      "metadata": {
        "colab": {
          "base_uri": "https://localhost:8080/"
        },
        "id": "HkD9RmMFKku9",
        "outputId": "e46fbbc6-1b66-4bcf-ccdc-2eb93ddaf786"
      },
      "outputs": [
        {
          "name": "stderr",
          "output_type": "stream",
          "text": [
            "5000it [02:59, 27.88it/s]\n"
          ]
        }
      ],
      "source": [
        "for i, u in tqdm(enumerate(y_cur1)):\n",
        "    popt = u\n",
        "    func_ex = dadi.Numerics.make_extrap_log_func(model_func)\n",
        "    model = func_ex(popt, ns, pts_l)\n",
        "    data = model * theta\n",
        "\n",
        "    data.to_file(f'/content/fs_data.txt')\n",
        "    with open('/content/fs_data.txt', 'r') as f:\n",
        "        for i in range(1):\n",
        "            f.readline()\n",
        "        x = f.readline()\n",
        "        with open('/content/data1.txt', 'r+') as f:\n",
        "            f.seek(0, 2) \n",
        "            f.write(x)"
      ]
    },
    {
      "cell_type": "markdown",
      "metadata": {
        "id": "uZa3t9qoEOYr"
      },
      "source": [
        "### ML part"
      ]
    },
    {
      "cell_type": "markdown",
      "metadata": {
        "id": "oIvDs9py3ohN"
      },
      "source": [
        "#### Import tools"
      ]
    },
    {
      "cell_type": "code",
      "execution_count": null,
      "metadata": {
        "id": "hmzgrwOYSY7O"
      },
      "outputs": [],
      "source": [
        "import pandas as pd\n",
        "\n",
        "from sklearn.ensemble import RandomForestRegressor\n",
        "from sklearn.multioutput import MultiOutputRegressor\n",
        "from sklearn.multioutput import RegressorChain\n",
        "\n",
        "from sklearn.model_selection import train_test_split as tr\n",
        "from sklearn.model_selection import RandomizedSearchCV, RepeatedKFold, cross_val_score, cross_validate\n",
        "from sklearn.metrics import r2_score, mean_squared_error, make_scorer\n",
        "\n",
        "import matplotlib.pyplot as plt \n",
        "import matplotlib.ticker as ticker\n",
        "from matplotlib.backends.backend_pdf import PdfPages\n",
        "\n",
        "from scipy.optimize import root\n",
        "from scipy.stats import randint, uniform\n",
        "from math import sqrt, exp, sin\n",
        "\n",
        "import os\n",
        "from tqdm import tqdm\n",
        "import pickle\n",
        "import random"
      ]
    },
    {
      "cell_type": "markdown",
      "metadata": {
        "id": "uoFwzSao4kMN"
      },
      "source": [
        "#### Create data"
      ]
    },
    {
      "cell_type": "markdown",
      "metadata": {
        "id": "EsY_4a-tsJB0"
      },
      "source": [
        "- Save data to `DataFrame`"
      ]
    },
    {
      "cell_type": "code",
      "execution_count": null,
      "metadata": {
        "id": "CRjZu5F_A3KF"
      },
      "outputs": [],
      "source": [
        "X_cur1 = pd.read_table('/content/drive/MyDrive/ML_DI/data1.txt',sep='\\s+', engine='python').to_numpy()\n",
        "y_cur1 = pd.read_table('/content/drive/MyDrive/ML_DI/labels1.txt',sep='\\s+', engine='python', names = [0, 1, 2, 3, 4]).to_numpy()"
      ]
    },
    {
      "cell_type": "code",
      "execution_count": null,
      "metadata": {
        "id": "f3gK6a_gqVwm"
      },
      "outputs": [],
      "source": [
        "X_cur2 = pd.read_table('/content/drive/MyDrive/ML_DI/data2.txt',sep='\\s+', engine='python').to_numpy()\n",
        "y_cur2 = pd.read_table('/content/drive/MyDrive/ML_DI/labels2.txt',sep='\\s+', engine='python', names = [0, 1, 2, 3, 4]).to_numpy()"
      ]
    },
    {
      "cell_type": "markdown",
      "metadata": {
        "id": "UwylZfbi4cxS"
      },
      "source": [
        "- Create train and test samples"
      ]
    },
    {
      "cell_type": "code",
      "execution_count": null,
      "metadata": {
        "id": "miDPtigBBNJ2"
      },
      "outputs": [],
      "source": [
        "X_train1, X_test1, y_train1, y_test1 = tr(X_cur1, y_cur1, train_size = 0.5, random_state=500, shuffle = True)\n",
        "X_train2, X_test2, y_train2, y_test2 = tr(X_cur2, y_cur2, train_size = 0.5, random_state=500, shuffle = True)"
      ]
    },
    {
      "cell_type": "markdown",
      "source": [
        "- Save files"
      ],
      "metadata": {
        "id": "2EJoCCxKB6fS"
      }
    },
    {
      "cell_type": "code",
      "execution_count": null,
      "metadata": {
        "id": "RbgzaD-OBNJ2"
      },
      "outputs": [],
      "source": [
        "np.savetxt(r'X_train1.txt', pd.DataFrame(X_train1))\n",
        "np.savetxt(r'X_test1.txt', pd.DataFrame(X_test1))\n",
        "np.savetxt(r'y_train1.txt', pd.DataFrame(y_train1))\n",
        "np.savetxt(r'y_test1.txt', pd.DataFrame(y_test1))\n",
        "np.savetxt(r'X_train2.txt', pd.DataFrame(X_train2))\n",
        "np.savetxt(r'X_test2.txt', pd.DataFrame(X_test2))\n",
        "np.savetxt(r'y_train2.txt', pd.DataFrame(y_train2))\n",
        "np.savetxt(r'y_test2.txt', pd.DataFrame(y_test2))"
      ]
    },
    {
      "cell_type": "markdown",
      "metadata": {
        "id": "cEPMtekQPsSi"
      },
      "source": [
        "We load previously created datasets, divided into test and training samples"
      ]
    },
    {
      "cell_type": "code",
      "execution_count": null,
      "metadata": {
        "id": "T59ivJK7BNJ2"
      },
      "outputs": [],
      "source": [
        "y_train1 = pd.read_table('/content/drive/MyDrive/ML_DI/y_train1.txt',sep='\\s+', engine='python', names = [0, 1, 2, 3, 4]).to_numpy()\n",
        "y_train2 = pd.read_table('/content/drive/MyDrive/ML_DI/y_train2.txt',sep='\\s+', engine='python', names = [0, 1, 2, 3, 4]).to_numpy()\n",
        "y_test1 = pd.read_table('/content/drive/MyDrive/ML_DI/y_test1.txt',sep='\\s+', engine='python', names = [0, 1, 2, 3, 4]).to_numpy()\n",
        "y_test2 = pd.read_table('/content/drive/MyDrive/ML_DI/y_test2.txt',sep='\\s+', engine='python', names = [0, 1, 2, 3, 4]).to_numpy()\n",
        "X_train1 = pd.read_table('/content/drive/MyDrive/ML_DI/X_train1.txt',sep='\\s+', engine='python', names = names).to_numpy()\n",
        "X_train2 = pd.read_table('/content/drive/MyDrive/ML_DI/X_train2.txt',sep='\\s+', engine='python', names = names).to_numpy()\n",
        "X_test1 = pd.read_table('/content/drive/MyDrive/ML_DI/X_test1.txt',sep='\\s+', engine='python', names = names).to_numpy()\n",
        "X_test2 = pd.read_table('/content/drive/MyDrive/ML_DI/X_test2.txt',sep='\\s+', engine='python', names = names).to_numpy()"
      ]
    },
    {
      "cell_type": "markdown",
      "source": [
        "### Multi-Output models: based on Random Forest"
      ],
      "metadata": {
        "id": "8kocQzqvXceP"
      }
    },
    {
      "cell_type": "markdown",
      "metadata": {
        "id": "nbLBz9oBCKTk"
      },
      "source": [
        "#### Predict five demographic history parameters: independent parameter prediction"
      ]
    },
    {
      "cell_type": "code",
      "execution_count": null,
      "metadata": {
        "colab": {
          "base_uri": "https://localhost:8080/"
        },
        "id": "5ikqP3ep7kCB",
        "outputId": "12304460-1d10-46cf-a8e5-e35029ac1d27"
      },
      "outputs": [
        {
          "name": "stdout",
          "output_type": "stream",
          "text": [
            "MAE: 0.012 (0.011)\n"
          ]
        }
      ],
      "source": [
        "model = RandomForestRegressor(max_depth=8, random_state=0, n_estimators=76)\n",
        "wrapper = MultiOutputRegressor(model)\n",
        "cv = RepeatedKFold(n_splits=10, n_repeats=3, random_state=1)\n",
        "n_scores = cross_val_score(wrapper, X_cur2, y_cur2, scoring='neg_mean_absolute_error', cv=cv, n_jobs=-1)\n",
        "n_scores = np.absolute(n_scores)\n",
        "print('MAE: %.3f (%.3f)' % (np.mean(n_scores), np.std(n_scores)))"
      ]
    },
    {
      "cell_type": "code",
      "execution_count": null,
      "metadata": {
        "id": "ZSZKGSMC--Xz"
      },
      "outputs": [],
      "source": [
        "model = RandomForestRegressor(max_depth=8, random_state=0, n_estimators=76)\n",
        "wrapper1 = MultiOutputRegressor(model)\n",
        "wrapper1.fit(X_train1, y_train1)"
      ]
    },
    {
      "cell_type": "code",
      "execution_count": null,
      "metadata": {
        "colab": {
          "base_uri": "https://localhost:8080/"
        },
        "id": "myTsr0cK2whQ",
        "outputId": "8967a78e-557f-4917-d35b-5d9983454975"
      },
      "outputs": [
        {
          "data": {
            "text/plain": [
              "MultiOutputRegressor(estimator=RandomForestRegressor(max_depth=8,\n",
              "                                                     n_estimators=76,\n",
              "                                                     random_state=0))"
            ]
          },
          "execution_count": 80,
          "metadata": {},
          "output_type": "execute_result"
        }
      ],
      "source": [
        "model = RandomForestRegressor(max_depth=8, random_state=0, n_estimators=76)\n",
        "wrapper2 = MultiOutputRegressor(model)\n",
        "wrapper2.fit(X_train2, y_train2)"
      ]
    },
    {
      "cell_type": "markdown",
      "metadata": {
        "id": "OWHneKSm_pCC"
      },
      "source": [
        " - Prediction"
      ]
    },
    {
      "cell_type": "code",
      "execution_count": null,
      "metadata": {
        "id": "9YFII92b_V7D"
      },
      "outputs": [],
      "source": [
        "y_pred1 = wrapper1.predict(X_test1)"
      ]
    },
    {
      "cell_type": "code",
      "execution_count": null,
      "metadata": {
        "id": "lPfYMcW82-PL"
      },
      "outputs": [],
      "source": [
        "y_pred2 = wrapper2.predict(X_test2)"
      ]
    },
    {
      "cell_type": "markdown",
      "metadata": {
        "id": "rzvHBYKz_skm"
      },
      "source": [
        "- Let's check metrics for any predicted parameters"
      ]
    },
    {
      "cell_type": "code",
      "execution_count": null,
      "metadata": {
        "id": "2bfHYwMsAH2V"
      },
      "outputs": [],
      "source": [
        "parameters = ['Size of subpopulation 1 after split',\n",
        "              'Size of subpopulation 2 after split',\n",
        "              'Migration rate from subpopulation 2 to subpopulation 1',\n",
        "              'Migration rate from subpopulation 1 to subpopulation 2', \n",
        "              'Time of split']"
      ]
    },
    {
      "cell_type": "code",
      "execution_count": null,
      "metadata": {
        "colab": {
          "base_uri": "https://localhost:8080/"
        },
        "id": "FJLsCbDZ_gT3",
        "outputId": "94b1d67d-fe14-449e-a0f4-4ab6a2809a24"
      },
      "outputs": [
        {
          "name": "stdout",
          "output_type": "stream",
          "text": [
            "Random Forest with max_depth = 8 and n_estimators = 76\n",
            "\n",
            "For Size of subpopulation 1 after split\n",
            "\n",
            "R2 score is equal to 0.8175157795047018\n",
            "MSE score is equal to 150.35083624869395\n",
            "\n",
            "For Size of subpopulation 2 after split\n",
            "\n",
            "R2 score is equal to 0.80465488323843\n",
            "MSE score is equal to 158.71238271513187\n",
            "\n",
            "For Migration rate from subpopulation 2 to subpopulation 1\n",
            "\n",
            "R2 score is equal to 0.9393491890233879\n",
            "MSE score is equal to 0.5181080741112235\n",
            "\n",
            "For Migration rate from subpopulation 1 to subpopulation 2\n",
            "\n",
            "R2 score is equal to 0.9323921410977929\n",
            "MSE score is equal to 0.5796252133554906\n",
            "\n",
            "For Time of split\n",
            "\n",
            "R2 score is equal to 0.9883595702862131\n",
            "MSE score is equal to 9.695708059429739e-06\n",
            "\n"
          ]
        }
      ],
      "source": [
        "print(f'Random Forest with max_depth = {model.max_depth} and n_estimators = {model.n_estimators}\\n')\n",
        "for i in range(5):\n",
        "    print(f'For {parameters[i]}\\n')\n",
        "    print(f'R2 score is equal to {r2_score(y_test1.T[i], y_pred1.T[i])}')\n",
        "    print(f'MSE score is equal to {mean_squared_error(y_test1.T[i], y_pred1.T[i])}\\n')"
      ]
    },
    {
      "cell_type": "code",
      "execution_count": null,
      "metadata": {
        "colab": {
          "base_uri": "https://localhost:8080/"
        },
        "id": "2hy_fOVr3DEM",
        "outputId": "6ce33d24-fd83-425b-b2e4-8133a6440b48"
      },
      "outputs": [
        {
          "name": "stdout",
          "output_type": "stream",
          "text": [
            "Random Forest with max_depth = 8 and n_estimators = 76\n",
            "\n",
            "For Size of subpopulation 1 after split\n",
            "\n",
            "R2 score is equal to 0.999930365729071\n",
            "MSE score is equal to 0.041002134813948155\n",
            "\n",
            "For Size of subpopulation 2 after split\n",
            "\n",
            "R2 score is equal to 0.9947055546618725\n",
            "MSE score is equal to 3.0351503922192715\n",
            "\n",
            "For Migration rate from subpopulation 2 to subpopulation 1\n",
            "\n",
            "R2 score is equal to 0.9889953979547029\n",
            "MSE score is equal to 0.018410626472790563\n",
            "\n",
            "For Migration rate from subpopulation 1 to subpopulation 2\n",
            "\n",
            "R2 score is equal to 0.9996131776972046\n",
            "MSE score is equal to 0.0010197846737629974\n",
            "\n",
            "For Time of split\n",
            "\n",
            "R2 score is equal to 0.9936168007319683\n",
            "MSE score is equal to 0.008951257386572428\n",
            "\n"
          ]
        }
      ],
      "source": [
        "print(f'Random Forest with max_depth = {model.max_depth} and n_estimators = {model.n_estimators}\\n')\n",
        "for i in range(5):\n",
        "    print(f'For {parameters[i]}\\n')\n",
        "    print(f'R2 score is equal to {r2_score(y_test2.T[i], y_pred2.T[i])}')\n",
        "    print(f'MSE score is equal to {mean_squared_error(y_test2.T[i], y_pred2.T[i])}\\n')"
      ]
    },
    {
      "cell_type": "markdown",
      "metadata": {
        "id": "37oTNJ0cUpRX"
      },
      "source": [
        "Saving models"
      ]
    },
    {
      "cell_type": "code",
      "execution_count": null,
      "metadata": {
        "id": "YCNTOZpSBNJ9"
      },
      "outputs": [],
      "source": [
        "filename = 'MultiOutputRegressor1.sav'\n",
        "pickle.dump(wrapper1, open(filename, 'wb'))\n",
        "filename = 'MultiOutputRegressor2.sav'\n",
        "pickle.dump(wrapper2, open(filename, 'wb'))"
      ]
    },
    {
      "cell_type": "markdown",
      "metadata": {
        "id": "QT8_lNJ6EZ42"
      },
      "source": [
        "#### Chained multioutput regression"
      ]
    },
    {
      "cell_type": "code",
      "execution_count": null,
      "metadata": {
        "id": "4wY2kQTvED-A"
      },
      "outputs": [],
      "source": [
        "wrapper2 = RegressorChain(model)\n",
        "cv = RepeatedKFold(n_splits=10, n_repeats=3, random_state=1)\n",
        "n_scores = cross_val_score(wrapper2, X_cur2, y_cur2, scoring='neg_mean_absolute_error', cv=cv, n_jobs=-1)\n",
        "n_scores = np.absolute(n_scores)\n",
        "print('MAE: %.3f (%.3f)' % (np.mean(n_scores), np.std(n_scores)))"
      ]
    },
    {
      "cell_type": "code",
      "execution_count": null,
      "metadata": {
        "colab": {
          "base_uri": "https://localhost:8080/"
        },
        "id": "4neZ-sPrAww3",
        "outputId": "3d63e925-cef5-463c-b426-53bc6595ef7a"
      },
      "outputs": [
        {
          "data": {
            "text/plain": [
              "RegressorChain(base_estimator=RandomForestRegressor(max_depth=8,\n",
              "                                                    n_estimators=76,\n",
              "                                                    random_state=0))"
            ]
          },
          "execution_count": 90,
          "metadata": {},
          "output_type": "execute_result"
        }
      ],
      "source": [
        "model = RandomForestRegressor(max_depth=8, random_state=0, n_estimators=76)\n",
        "wrapper3 = RegressorChain(model)\n",
        "wrapper3.fit(X_train1, y_train1)"
      ]
    },
    {
      "cell_type": "code",
      "execution_count": null,
      "metadata": {
        "colab": {
          "base_uri": "https://localhost:8080/"
        },
        "id": "r85GOSUxcn1V",
        "outputId": "f92ec307-2949-496a-8205-7d31886902f7"
      },
      "outputs": [
        {
          "data": {
            "text/plain": [
              "RegressorChain(base_estimator=RandomForestRegressor(max_depth=8,\n",
              "                                                    n_estimators=76,\n",
              "                                                    random_state=0))"
            ]
          },
          "execution_count": 91,
          "metadata": {},
          "output_type": "execute_result"
        }
      ],
      "source": [
        "model = RandomForestRegressor(max_depth=8, random_state=0, n_estimators=76)\n",
        "wrapper4 = RegressorChain(model)\n",
        "wrapper4.fit(X_train2, y_train2)"
      ]
    },
    {
      "cell_type": "code",
      "execution_count": null,
      "metadata": {
        "id": "ngigVT-JBUCe"
      },
      "outputs": [],
      "source": [
        "y_pred3 = wrapper3.predict(X_test1)\n",
        "y_pred4 = wrapper4.predict(X_test2)"
      ]
    },
    {
      "cell_type": "markdown",
      "source": [
        "Saving models"
      ],
      "metadata": {
        "id": "GbUx10CoYbTi"
      }
    },
    {
      "cell_type": "code",
      "execution_count": null,
      "metadata": {
        "id": "vt_sYpe7c-5j"
      },
      "outputs": [],
      "source": [
        "filename = 'RegressorChain1.sav'\n",
        "pickle.dump(wrapper3, open(filename, 'wb'))\n",
        "filename = 'RegressorChain2.sav'\n",
        "pickle.dump(wrapper4, open(filename, 'wb'))"
      ]
    },
    {
      "cell_type": "markdown",
      "metadata": {
        "id": "9gHgY9K9Vqzx"
      },
      "source": [
        "- Let's look at the predicted parameters separately and calculate the metrics"
      ]
    },
    {
      "cell_type": "code",
      "execution_count": null,
      "metadata": {
        "colab": {
          "base_uri": "https://localhost:8080/"
        },
        "id": "U0o5WzhBBO5O",
        "outputId": "f0adeedf-51cb-425d-c1ae-2b38fefada1c"
      },
      "outputs": [
        {
          "name": "stdout",
          "output_type": "stream",
          "text": [
            "Chained multioutput regression\n",
            "Random Forest with max_depth = 8 and n_estimators = 76\n",
            "\n",
            "For Size of subpopulation 1 after split\n",
            "\n",
            "R2 score is equal to 0.8175157795047018\n",
            "MSE score is equal to 150.35083624869395\n",
            "\n",
            "For Size of subpopulation 2 after split\n",
            "\n",
            "R2 score is equal to 0.8047905234000596\n",
            "MSE score is equal to 158.60217891991553\n",
            "\n",
            "For Migration rate from subpopulation 2 to subpopulation 1\n",
            "\n",
            "R2 score is equal to 0.9401330651275113\n",
            "MSE score is equal to 0.5114118316025161\n",
            "\n",
            "For Migration rate from subpopulation 1 to subpopulation 2\n",
            "\n",
            "R2 score is equal to 0.9352565215373589\n",
            "MSE score is equal to 0.5550679037412889\n",
            "\n",
            "For Time of split\n",
            "\n",
            "R2 score is equal to 0.9884800942322846\n",
            "MSE score is equal to 9.595319583745224e-06\n",
            "\n"
          ]
        }
      ],
      "source": [
        "print('Chained multioutput regression')\n",
        "print(f'Random Forest with max_depth = {model.max_depth} and n_estimators = {model.n_estimators}\\n')\n",
        "for i in range(5):\n",
        "  print(f'For {parameters[i]}\\n')\n",
        "  print(f'R2 score is equal to {r2_score(y_test1.T[i], y_pred3.T[i])}')\n",
        "  print(f'MSE score is equal to {mean_squared_error(y_test1.T[i], y_pred3.T[i])}\\n')"
      ]
    },
    {
      "cell_type": "code",
      "execution_count": null,
      "metadata": {
        "colab": {
          "base_uri": "https://localhost:8080/"
        },
        "id": "zt0Hd6JfeXw0",
        "outputId": "d67bec07-7337-404d-ca8b-6a502a6a3555"
      },
      "outputs": [
        {
          "name": "stdout",
          "output_type": "stream",
          "text": [
            "Chained multioutput regression\n",
            "Random Forest with max_depth = 8 and n_estimators = 76\n",
            "\n",
            "For Size of subpopulation 1 after split\n",
            "\n",
            "R2 score is equal to 0.999930365729071\n",
            "MSE score is equal to 0.041002134813948155\n",
            "\n",
            "For Size of subpopulation 2 after split\n",
            "\n",
            "R2 score is equal to 0.9953230285641524\n",
            "MSE score is equal to 2.681170695197222\n",
            "\n",
            "For Migration rate from subpopulation 2 to subpopulation 1\n",
            "\n",
            "R2 score is equal to 0.9885147481957837\n",
            "MSE score is equal to 0.01921475034199314\n",
            "\n",
            "For Migration rate from subpopulation 1 to subpopulation 2\n",
            "\n",
            "R2 score is equal to 0.9996607319752575\n",
            "MSE score is equal to 0.0008944167113167355\n",
            "\n",
            "For Time of split\n",
            "\n",
            "R2 score is equal to 0.9931832126285584\n",
            "MSE score is equal to 0.009559284576451485\n",
            "\n"
          ]
        }
      ],
      "source": [
        "print('Chained multioutput regression')\n",
        "print(f'Random Forest with max_depth = {model.max_depth} and n_estimators = {model.n_estimators}\\n')\n",
        "for i in range(5):\n",
        "  print(f'For {parameters[i]}\\n')\n",
        "  print(f'R2 score is equal to {r2_score(y_test2.T[i], y_pred4.T[i])}')\n",
        "  print(f'MSE score is equal to {mean_squared_error(y_test2.T[i], y_pred4.T[i])}\\n')"
      ]
    },
    {
      "cell_type": "markdown",
      "source": [
        "### Visualize of spectrum: true and predict"
      ],
      "metadata": {
        "id": "RsA8dglxXsnW"
      }
    },
    {
      "cell_type": "markdown",
      "source": [
        "#### For the First model"
      ],
      "metadata": {
        "id": "5DM1C6HBYiz5"
      }
    },
    {
      "cell_type": "code",
      "execution_count": null,
      "metadata": {
        "colab": {
          "base_uri": "https://localhost:8080/",
          "height": 269
        },
        "id": "cdqBJjLzGFsj",
        "outputId": "8abc473e-4c5b-4a1d-d459-632b420ad4b6"
      },
      "outputs": [
        {
          "output_type": "display_data",
          "data": {
            "text/plain": [
              "<Figure size 432x288 with 2 Axes>"
            ],
            "image/png": "[encoded data removed]"
          },
          "metadata": {
            "needs_background": "light"
          }
        }
      ],
      "source": [
        "popt = y_test1[1975]\n",
        "func_ex = dadi.Numerics.make_extrap_log_func(model_func)\n",
        "model = func_ex(popt, ns, pts_l)\n",
        "data = model * theta\n",
        "pylab.figure(i)\n",
        "dadi.Plotting.plot_single_2d_sfs(data, vmin = 1)\n",
        "pylab.savefig(f'/content/true1.jpeg', dpi=300)"
      ]
    },
    {
      "cell_type": "code",
      "execution_count": null,
      "metadata": {
        "colab": {
          "base_uri": "https://localhost:8080/"
        },
        "id": "1dBF1o5iGsLZ",
        "outputId": "6c762cbd-b2d7-4527-d929-d687bf52b5c3"
      },
      "outputs": [
        {
          "name": "stdout",
          "output_type": "stream",
          "text": [
            "[6.28960298e+01 1.53831048e+01 7.05036631e+00 4.59788985e-01\n",
            " 3.09343946e-02]\n"
          ]
        }
      ],
      "source": [
        "print(y_test1[1975])"
      ]
    },
    {
      "cell_type": "code",
      "execution_count": null,
      "metadata": {
        "colab": {
          "base_uri": "https://localhost:8080/",
          "height": 269
        },
        "id": "9_iI9TQ5GUcI",
        "outputId": "a853459b-aa8c-4cad-e395-f7433628f4e7"
      },
      "outputs": [
        {
          "output_type": "display_data",
          "data": {
            "text/plain": [
              "<Figure size 432x288 with 2 Axes>"
            ],
            "image/png": "[encoded data removed]"
          },
          "metadata": {
            "needs_background": "light"
          }
        }
      ],
      "source": [
        "popt = y_pred1[1975]\n",
        "func_ex = dadi.Numerics.make_extrap_log_func(model_func)\n",
        "model = func_ex(popt, ns, pts_l)\n",
        "data = model * theta\n",
        "pylab.figure(i)\n",
        "dadi.Plotting.plot_single_2d_sfs(data, vmin = 1)\n",
        "pylab.savefig(f'/content/pred11.jpeg', dpi=300)"
      ]
    },
    {
      "cell_type": "code",
      "execution_count": null,
      "metadata": {
        "colab": {
          "base_uri": "https://localhost:8080/"
        },
        "id": "zwFUcNMGGnVL",
        "outputId": "ae89ce91-1158-40d8-9e96-7ce1d4eef773"
      },
      "outputs": [
        {
          "name": "stdout",
          "output_type": "stream",
          "text": [
            "[6.28530617e+01 1.56489892e+01 7.47511894e+00 3.48610842e-01\n",
            " 3.16936124e-02]\n"
          ]
        }
      ],
      "source": [
        "print(y_pred1[1975])"
      ]
    },
    {
      "cell_type": "code",
      "execution_count": null,
      "metadata": {
        "colab": {
          "base_uri": "https://localhost:8080/",
          "height": 269
        },
        "id": "DZqkbTDDxZZX",
        "outputId": "997f7314-fad3-4a6c-8ae5-e1edc2648a22"
      },
      "outputs": [
        {
          "output_type": "display_data",
          "data": {
            "text/plain": [
              "<Figure size 432x288 with 2 Axes>"
            ],
            "image/png": "[encoded data removed]"
          },
          "metadata": {
            "needs_background": "light"
          }
        }
      ],
      "source": [
        "popt = y_pred3[1975]\n",
        "func_ex = dadi.Numerics.make_extrap_log_func(model_func)\n",
        "model = func_ex(popt, ns, pts_l)\n",
        "data = model * theta\n",
        "pylab.figure(i)\n",
        "dadi.Plotting.plot_single_2d_sfs(data, vmin = 1)\n",
        "pylab.savefig(f'/content/pred12.jpeg', dpi=300)"
      ]
    },
    {
      "cell_type": "code",
      "execution_count": null,
      "metadata": {
        "colab": {
          "base_uri": "https://localhost:8080/"
        },
        "id": "-yPgd7ELxfHF",
        "outputId": "ff335923-97b9-4e34-9785-eb055e35a409"
      },
      "outputs": [
        {
          "name": "stdout",
          "output_type": "stream",
          "text": [
            "[6.28530617e+01 1.63629541e+01 7.45202589e+00 3.75310971e-01\n",
            " 3.15604909e-02]\n"
          ]
        }
      ],
      "source": [
        "print(y_pred3[1975])"
      ]
    },
    {
      "cell_type": "markdown",
      "source": [
        "#### For the Second model"
      ],
      "metadata": {
        "id": "eBQAPvfdYotf"
      }
    },
    {
      "cell_type": "code",
      "execution_count": null,
      "metadata": {
        "colab": {
          "base_uri": "https://localhost:8080/",
          "height": 269
        },
        "id": "jEHLN9wIztyf",
        "outputId": "09bb7386-776b-478e-92f7-7944d0c64305"
      },
      "outputs": [
        {
          "output_type": "display_data",
          "data": {
            "text/plain": [
              "<Figure size 432x288 with 2 Axes>"
            ],
            "image/png": "[encoded data removed]"
          },
          "metadata": {
            "needs_background": "light"
          }
        }
      ],
      "source": [
        "popt = y_test2[2345]\n",
        "func_ex = dadi.Numerics.make_extrap_log_func(model_func)\n",
        "model = func_ex(popt, ns, pts_l)\n",
        "data = model * theta\n",
        "pylab.figure(i)\n",
        "dadi.Plotting.plot_single_2d_sfs(data, vmin = 1)\n",
        "pylab.savefig(f'/content/true2.jpeg', dpi=300)"
      ]
    },
    {
      "cell_type": "code",
      "execution_count": null,
      "metadata": {
        "colab": {
          "base_uri": "https://localhost:8080/"
        },
        "id": "ROJYI9az09Oa",
        "outputId": "69108936-df43-44ec-c061-d99752612a1b"
      },
      "outputs": [
        {
          "name": "stdout",
          "output_type": "stream",
          "text": [
            "[6.1165045e+01 1.0000000e-01 5.0000000e+00 2.5000000e+00 5.0000000e-02]\n"
          ]
        }
      ],
      "source": [
        "print(y_test2[2345])"
      ]
    },
    {
      "cell_type": "code",
      "execution_count": null,
      "metadata": {
        "colab": {
          "base_uri": "https://localhost:8080/",
          "height": 269
        },
        "id": "jIrq_s9KzxrV",
        "outputId": "f916e370-54c2-44d7-8dac-2aafb7cddf38"
      },
      "outputs": [
        {
          "output_type": "display_data",
          "data": {
            "text/plain": [
              "<Figure size 432x288 with 2 Axes>"
            ],
            "image/png": "[encoded data removed]"
          },
          "metadata": {
            "needs_background": "light"
          }
        }
      ],
      "source": [
        "popt = y_pred2[2345]\n",
        "func_ex = dadi.Numerics.make_extrap_log_func(model_func)\n",
        "model = func_ex(popt, ns, pts_l)\n",
        "data = model * theta\n",
        "pylab.figure(i)\n",
        "dadi.Plotting.plot_single_2d_sfs(data, vmin = 1)\n",
        "pylab.savefig(f'/content/pred21.jpeg', dpi=300)"
      ]
    },
    {
      "cell_type": "code",
      "execution_count": null,
      "metadata": {
        "colab": {
          "base_uri": "https://localhost:8080/"
        },
        "id": "DaOSKsUA1smT",
        "outputId": "a1e2d5c7-4303-4472-bfe0-c7459e78b1c4"
      },
      "outputs": [
        {
          "name": "stdout",
          "output_type": "stream",
          "text": [
            "[6.12329027e+01 1.00000000e-01 5.00000000e+00 2.49997009e+00\n",
            " 5.00000013e-02]\n"
          ]
        }
      ],
      "source": [
        "print(y_pred2[2345])"
      ]
    },
    {
      "cell_type": "code",
      "execution_count": null,
      "metadata": {
        "colab": {
          "base_uri": "https://localhost:8080/",
          "height": 269
        },
        "id": "GRB3kTBz0smM",
        "outputId": "d4b5c5ab-9bb8-469c-e221-6918adbee9ba"
      },
      "outputs": [
        {
          "output_type": "display_data",
          "data": {
            "text/plain": [
              "<Figure size 432x288 with 2 Axes>"
            ],
            "image/png": "[encoded data removed]"
          },
          "metadata": {
            "needs_background": "light"
          }
        }
      ],
      "source": [
        "popt = y_pred4[2345]\n",
        "func_ex = dadi.Numerics.make_extrap_log_func(model_func)\n",
        "model = func_ex(popt, ns, pts_l)\n",
        "data = model * theta\n",
        "pylab.figure(i)\n",
        "dadi.Plotting.plot_single_2d_sfs(data, vmin = 1)\n",
        "pylab.savefig(f'/content/pred22.jpeg', dpi=300)"
      ]
    },
    {
      "cell_type": "code",
      "execution_count": null,
      "metadata": {
        "colab": {
          "base_uri": "https://localhost:8080/"
        },
        "id": "_SyjRbdj2Ufw",
        "outputId": "f833843a-1f6b-49e7-aad0-1dbb38043b38"
      },
      "outputs": [
        {
          "name": "stdout",
          "output_type": "stream",
          "text": [
            "[6.12329027e+01 1.00000000e-01 5.00000000e+00 2.49997009e+00\n",
            " 5.00000013e-02]\n"
          ]
        }
      ],
      "source": [
        "print(y_pred4[2345])"
      ]
    },
    {
      "cell_type": "markdown",
      "metadata": {
        "id": "A5vqpowBO_kd"
      },
      "source": [
        "### Download models"
      ]
    },
    {
      "cell_type": "code",
      "execution_count": null,
      "metadata": {
        "id": "7GHeihFfPavv"
      },
      "outputs": [],
      "source": [
        "filename1 = '/content/drive/MyDrive/ML_DI/MultiOutputRegressor1.sav'\n",
        "MultiOutputRegressor1 = pickle.load(open(filename1, 'rb'))\n",
        "filename2 = '/content/drive/MyDrive/ML_DI/MultiOutputRegressor2.sav'\n",
        "MultiOutputRegressor2 = pickle.load(open(filename2, 'rb'))\n",
        "filename3 = '/content/drive/MyDrive/ML_DI/RegressorChain1.sav'\n",
        "RegressorChain1 = pickle.load(open(filename3, 'rb'))\n",
        "filename4 = '/content/drive/MyDrive/ML_DI/RegressorChain2.sav'\n",
        "RegressorChain2 = pickle.load(open(filename4, 'rb'))"
      ]
    },
    {
      "cell_type": "code",
      "execution_count": null,
      "metadata": {
        "id": "cBuH5oxcTWNr"
      },
      "outputs": [],
      "source": [
        "y_pred1 = MultiOutputRegressor1.predict(X_test1)\n",
        "y_pred2 = MultiOutputRegressor2.predict(X_test2)\n",
        "y_pred3 = RegressorChain1.predict(X_test1)\n",
        "y_pred4 = RegressorChain2.predict(X_test2)"
      ]
    },
    {
      "cell_type": "markdown",
      "source": [
        "It should be noted that there are two datasets, the first `X_test1` and the second `X_test2`, predictions `y_pred` 1 and `y_pred3` were made for `X_test1`, which were made using **model I** and **model II**, similarly, predictions `y_pred2` and `y_pred4` were made for `X_test2`.\n",
        "\n",
        "Thus, for further use in random search, remember the rule: for a dataset with an odd number, the names of the predictions have odd numbers, for a dataset with an even number, the predictions have even numbers. This is in case you want to repeat the analysis with a random search. But remember! This algorithm requires work on the GPU, as it consumes a lot of RAM, so if there are no such resources, it is better to run in **Google colab**."
      ],
      "metadata": {
        "id": "ApAa73boFLWL"
      }
    },
    {
      "cell_type": "markdown",
      "metadata": {
        "id": "9qZwPDKTkqU9"
      },
      "source": [
        "### Random search Metric"
      ]
    },
    {
      "cell_type": "markdown",
      "source": [
        "##### Random search"
      ],
      "metadata": {
        "id": "IhpQySm8ba3Z"
      }
    },
    {
      "cell_type": "code",
      "execution_count": null,
      "metadata": {
        "id": "tjJ_Xn8xC4OM"
      },
      "outputs": [],
      "source": [
        "ll = [] # likelihoods\n",
        "NN = [] # list of count of random points\n",
        "M = 100 # size of test sample\n",
        "y_test_for_metrics = y_test2[:M] # change this y_test1 to chooce another dataset, for example y_test1\n",
        "func_ex = dadi.Numerics.make_extrap_log_func(model_func)\n",
        "eps = 0.5\n",
        "\n",
        "for y in tqdm(y_test_for_metrics):\n",
        "    idx = np.where(y_test_for_metrics == y)\n",
        "    data = func_ex(y, ns, pts_l) * theta\n",
        "    model = func_ex(y_pred4[idx[0][0]], ns, pts_l) #change this y_pred4 to choose another dataset or model, for example, y_pred2\n",
        "    ll_model = dadi.Inference.ll_multinom(model, data)\n",
        "    ll_model_random = 0\n",
        "    i = 0\n",
        "    while abs(ll_model - ll_model_random) > eps:\n",
        "        i += 1\n",
        "        y_random = np.array([sts.uniform.rvs(loc = lower_bound[0], scale = upper_bound[0] + lower_bound[0]),\n",
        "                            sts.uniform.rvs(loc = lower_bound[1], scale = upper_bound[1] + lower_bound[1]),\n",
        "                            sts.uniform.rvs(loc = lower_bound[2], scale = upper_bound[2] + lower_bound[2]),\n",
        "                            sts.uniform.rvs(loc = lower_bound[3], scale = upper_bound[3] + lower_bound[3]),\n",
        "                            sts.uniform.rvs(loc = 0.001, scale = 0.101)]).T\n",
        "        model_random = func_ex(y_random, ns, pts_l)\n",
        "        ll_model_random = dadi.Inference.ll_multinom(model_random, data)\n",
        "        nn = i\n",
        "    NN.append(nn)\n",
        "    ll.append(ll_model_random)"
      ]
    },
    {
      "cell_type": "markdown",
      "source": [
        "##### Random search results"
      ],
      "metadata": {
        "id": "pOWqSMgfbeEs"
      }
    },
    {
      "cell_type": "code",
      "source": [
        "NN_1 = np.array(NN)\n",
        "NN_mean1 = np.mean(NN_1)\n",
        "NN_mean1"
      ],
      "metadata": {
        "colab": {
          "base_uri": "https://localhost:8080/"
        },
        "id": "QaTqA4YQpzDF",
        "outputId": "0304397a-256f-4176-8dfd-c41147ca1cdc"
      },
      "execution_count": null,
      "outputs": [
        {
          "output_type": "execute_result",
          "data": {
            "text/plain": [
              "1172.36"
            ]
          },
          "metadata": {},
          "execution_count": 270
        }
      ]
    },
    {
      "cell_type": "code",
      "source": [
        "NN_2 = np.array(NN)\n",
        "NN_mean2 = np.mean(NN_2)\n",
        "NN_mean2"
      ],
      "metadata": {
        "colab": {
          "base_uri": "https://localhost:8080/"
        },
        "id": "VauyBPwWMNvz",
        "outputId": "5a9cdd80-43bc-4f6b-af44-2d4534d14c18"
      },
      "execution_count": null,
      "outputs": [
        {
          "output_type": "execute_result",
          "data": {
            "text/plain": [
              "854.4722222222222"
            ]
          },
          "metadata": {},
          "execution_count": 296
        }
      ]
    },
    {
      "cell_type": "code",
      "source": [
        "NN_3 = np.array(NN)\n",
        "NN_mean3 = np.mean(NN_3)\n",
        "NN_mean3"
      ],
      "metadata": {
        "colab": {
          "base_uri": "https://localhost:8080/"
        },
        "id": "wYkTNiSkM3Y2",
        "outputId": "b53549b2-de90-4f23-be39-5084ccbcd298"
      },
      "execution_count": null,
      "outputs": [
        {
          "output_type": "execute_result",
          "data": {
            "text/plain": [
              "1034.433"
            ]
          },
          "metadata": {},
          "execution_count": 21
        }
      ]
    },
    {
      "cell_type": "code",
      "source": [
        "NN_4 = np.array(NN)\n",
        "NN_mean4 = np.mean(NN_4)\n",
        "NN_mean4"
      ],
      "metadata": {
        "colab": {
          "base_uri": "https://localhost:8080/"
        },
        "id": "Nzr1zSyVaYfz",
        "outputId": "5f21763b-6a8e-42c1-c1b3-1f0d8321766c"
      },
      "execution_count": null,
      "outputs": [
        {
          "output_type": "execute_result",
          "data": {
            "text/plain": [
              "925.21"
            ]
          },
          "metadata": {},
          "execution_count": 23
        }
      ]
    }
  ],
  "metadata": {
    "accelerator": "GPU",
    "colab": {
      "collapsed_sections": [
        "IIDZADeVpIkL",
        "uZa3t9qoEOYr",
        "oIvDs9py3ohN",
        "uoFwzSao4kMN",
        "SuD8U9lb5Cbg",
        "p0F85qO45tvR",
        "v1HMvuKv57Gl",
        "1uOpjmXQ61UE"
      ],
      "name": "ML_DI_pipeline_full",
      "provenance": [],
      "include_colab_link": true
    },
    "kernelspec": {
      "display_name": "Python 3 (ipykernel)",
      "language": "python",
      "name": "python3"
    },
    "language_info": {
      "codemirror_mode": {
        "name": "ipython",
        "version": 3
      },
      "file_extension": ".py",
      "mimetype": "text/x-python",
      "name": "python",
      "nbconvert_exporter": "python",
      "pygments_lexer": "ipython3",
      "version": "3.9.7"
    }
  },
  "nbformat": 4,
  "nbformat_minor": 0
}